{
 "cells": [
  {
   "cell_type": "code",
   "execution_count": 22,
   "metadata": {},
   "outputs": [
    {
     "name": "stderr",
     "output_type": "stream",
     "text": [
      "1181.39s - pydevd: Sending message related to process being replaced timed-out after 5 seconds\n"
     ]
    },
    {
     "name": "stdout",
     "output_type": "stream",
     "text": [
      "Note: you may need to restart the kernel to use updated packages.\n"
     ]
    }
   ],
   "source": [
    "%pip install -q openai \"arize-phoenix>=8.8.0\" \"arize-phoenix-otel>=0.8.0\" openinference-instrumentation-openai python-dotenv duckdb \"openinference-instrumentation>=0.1.21\""
   ]
  },
  {
   "cell_type": "code",
   "execution_count": 23,
   "metadata": {},
   "outputs": [],
   "source": [
    "import dotenv\n",
    "dotenv.load_dotenv()\n",
    "\n",
    "import nest_asyncio\n",
    "\n",
    "import json\n",
    "import phoenix as px\n",
    "from phoenix.evals import TOOL_CALLING_PROMPT_TEMPLATE, OpenAIModel, llm_classify\n",
    "from phoenix.experiments import evaluate_experiment, run_experiment\n",
    "from phoenix.experiments.evaluators import create_evaluator\n",
    "from phoenix.experiments.types import Example\n",
    "from phoenix.trace import SpanEvaluations\n",
    "from phoenix.trace.dsl import SpanQuery\n",
    "\n",
    "nest_asyncio.apply()"
   ]
  },
  {
   "cell_type": "code",
   "execution_count": 24,
   "metadata": {},
   "outputs": [
    {
     "name": "stderr",
     "output_type": "stream",
     "text": [
      "/Users/michal/.pyenv/versions/3.12.2/lib/python3.12/site-packages/phoenix/utilities/client.py:60: UserWarning: The Phoenix server (11.8.0) and client (11.10.1) versions are mismatched and may have compatibility issues.\n",
      "  warnings.warn(\n"
     ]
    }
   ],
   "source": [
    "px_client = px.Client(endpoint=\"https://app.phoenix.arize.com/s/michal-kalita\")\n",
    "eval_model = OpenAIModel(model=\"gpt-4o-mini\")\n"
   ]
  },
  {
   "cell_type": "code",
   "execution_count": 45,
   "metadata": {},
   "outputs": [
    {
     "data": {
      "text/html": [
       "<div>\n",
       "<style scoped>\n",
       "    .dataframe tbody tr th:only-of-type {\n",
       "        vertical-align: middle;\n",
       "    }\n",
       "\n",
       "    .dataframe tbody tr th {\n",
       "        vertical-align: top;\n",
       "    }\n",
       "\n",
       "    .dataframe thead th {\n",
       "        text-align: right;\n",
       "    }\n",
       "</style>\n",
       "<table border=\"1\" class=\"dataframe\">\n",
       "  <thead>\n",
       "    <tr style=\"text-align: right;\">\n",
       "      <th></th>\n",
       "      <th>question</th>\n",
       "      <th>output_messages</th>\n",
       "      <th>tool_definitions</th>\n",
       "    </tr>\n",
       "    <tr>\n",
       "      <th>context.span_id</th>\n",
       "      <th></th>\n",
       "      <th></th>\n",
       "      <th></th>\n",
       "    </tr>\n",
       "  </thead>\n",
       "  <tbody>\n",
       "    <tr>\n",
       "      <th>4f1b0d9e2317dfcc</th>\n",
       "      <td>Test 3, find instagram actors</td>\n",
       "      <td>[{\"role\":\"user\",\"content\":\"Test 3, find instag...</td>\n",
       "      <td>[{\"name\":\"get-actor-details\",\"description\":\"Re...</td>\n",
       "    </tr>\n",
       "  </tbody>\n",
       "</table>\n",
       "</div>"
      ],
      "text/plain": [
       "                                       question  \\\n",
       "context.span_id                                   \n",
       "4f1b0d9e2317dfcc  Test 3, find instagram actors   \n",
       "\n",
       "                                                    output_messages  \\\n",
       "context.span_id                                                       \n",
       "4f1b0d9e2317dfcc  [{\"role\":\"user\",\"content\":\"Test 3, find instag...   \n",
       "\n",
       "                                                   tool_definitions  \n",
       "context.span_id                                                      \n",
       "4f1b0d9e2317dfcc  [{\"name\":\"get-actor-details\",\"description\":\"Re...  "
      ]
     },
     "execution_count": 45,
     "metadata": {},
     "output_type": "execute_result"
    }
   ],
   "source": [
    "query = (\n",
    "    SpanQuery()\n",
    "    .where(\n",
    "        \"span_kind == 'AGENT'\",\n",
    "    )\n",
    "    .select()\n",
    "    .select(question=\"input.value\", output_messages=\"llm.output_messages\", tool_definitions=\"llm.tools\")\n",
    ")\n",
    "\n",
    "# The Phoenix Client can take this query and return the dataframe.\n",
    "tool_calls_df = px_client.query_spans(query, project_name=\"mcp-client\", timeout=None)\n",
    "\n",
    "tool_calls_df.dropna(subset=[\"output_messages\"], inplace=True)\n",
    "tool_calls_df"
   ]
  },
  {
   "cell_type": "code",
   "execution_count": 46,
   "metadata": {},
   "outputs": [
    {
     "data": {
      "text/html": [
       "<div>\n",
       "<style scoped>\n",
       "    .dataframe tbody tr th:only-of-type {\n",
       "        vertical-align: middle;\n",
       "    }\n",
       "\n",
       "    .dataframe tbody tr th {\n",
       "        vertical-align: top;\n",
       "    }\n",
       "\n",
       "    .dataframe thead th {\n",
       "        text-align: right;\n",
       "    }\n",
       "</style>\n",
       "<table border=\"1\" class=\"dataframe\">\n",
       "  <thead>\n",
       "    <tr style=\"text-align: right;\">\n",
       "      <th></th>\n",
       "      <th>question</th>\n",
       "      <th>output_messages</th>\n",
       "      <th>tool_definitions</th>\n",
       "      <th>tool_call</th>\n",
       "    </tr>\n",
       "    <tr>\n",
       "      <th>context.span_id</th>\n",
       "      <th></th>\n",
       "      <th></th>\n",
       "      <th></th>\n",
       "      <th></th>\n",
       "    </tr>\n",
       "  </thead>\n",
       "  <tbody>\n",
       "    <tr>\n",
       "      <th>4f1b0d9e2317dfcc</th>\n",
       "      <td>Test 3, find instagram actors</td>\n",
       "      <td>[{\"role\":\"user\",\"content\":\"Test 3, find instag...</td>\n",
       "      <td>[{\"name\":\"get-actor-details\",\"description\":\"Re...</td>\n",
       "      <td>[{'tool': 'search-actors', 'input': {'search':...</td>\n",
       "    </tr>\n",
       "  </tbody>\n",
       "</table>\n",
       "</div>"
      ],
      "text/plain": [
       "                                       question  \\\n",
       "context.span_id                                   \n",
       "4f1b0d9e2317dfcc  Test 3, find instagram actors   \n",
       "\n",
       "                                                    output_messages  \\\n",
       "context.span_id                                                       \n",
       "4f1b0d9e2317dfcc  [{\"role\":\"user\",\"content\":\"Test 3, find instag...   \n",
       "\n",
       "                                                   tool_definitions  \\\n",
       "context.span_id                                                       \n",
       "4f1b0d9e2317dfcc  [{\"name\":\"get-actor-details\",\"description\":\"Re...   \n",
       "\n",
       "                                                          tool_call  \n",
       "context.span_id                                                      \n",
       "4f1b0d9e2317dfcc  [{'tool': 'search-actors', 'input': {'search':...  "
      ]
     },
     "execution_count": 46,
     "metadata": {},
     "output_type": "execute_result"
    }
   ],
   "source": [
    "def get_tool_calls(conversation_data):\n",
    "    \"\"\"\n",
    "    Extract function calls from conversation data in the format:\n",
    "    [{tool: \"name_of_tool\", input: {key: value}, output: {...}}, ...]\n",
    "    \n",
    "    Args:\n",
    "        conversation_data (str or list): JSON string or parsed conversation data\n",
    "    \n",
    "    Returns:\n",
    "        list: Array of function call objects with tool, input, and output\n",
    "    \"\"\"\n",
    "    # Parse JSON if it's a string\n",
    "    if isinstance(conversation_data, str):\n",
    "        data = json.loads(conversation_data)\n",
    "    else:\n",
    "        data = conversation_data\n",
    "    \n",
    "    function_calls = []\n",
    "    tool_calls_map = {}  # Map tool IDs to their calls for matching with results\n",
    "    \n",
    "    # First pass: collect tool calls\n",
    "    for message in data:\n",
    "        if isinstance(message.get('content'), list):\n",
    "            for content_item in message['content']:\n",
    "                if content_item.get('type') == 'tool_use':\n",
    "                    tool_id = content_item.get('id')\n",
    "                    tool_call = {\n",
    "                        'tool': content_item.get('name'),\n",
    "                        'input': content_item.get('input', {}),\n",
    "                        # 'output': None  # Will be filled in second pass\n",
    "                    }\n",
    "                    tool_calls_map[tool_id] = tool_call\n",
    "                    function_calls.append(tool_call)\n",
    "    \n",
    "    # Second pass: match tool results with tool calls\n",
    "    # for message in data:\n",
    "    #     if isinstance(message.get('content'), list):\n",
    "    #         for content_item in message['content']:\n",
    "    #             if content_item.get('type') == 'tool_result':\n",
    "    #                 tool_id = content_item.get('tool_use_id')\n",
    "    #                 if tool_id in tool_calls_map:\n",
    "    #                     # Extract output from tool result\n",
    "    #                     result_content = content_item.get('content', [])\n",
    "    #                     output = {}\n",
    "                        \n",
    "    #                     # Parse the result content\n",
    "    #                     for result_item in result_content:\n",
    "    #                         if result_item.get('type') == 'text':\n",
    "    #                             text = result_item.get('text', '')\n",
    "                                \n",
    "    #                             # Try to parse JSON from the text if it looks like JSON\n",
    "    #                             if text.startswith('{') and text.endswith('}'):\n",
    "    #                                 try:\n",
    "    #                                     output = json.loads(text)\n",
    "    #                                 except json.JSONDecodeError:\n",
    "    #                                     output = {'text': text}\n",
    "    #                             else:\n",
    "    #                                 # If not JSON, store as text\n",
    "    #                                 if 'text' not in output:\n",
    "    #                                     output['text'] = text\n",
    "    #                                 else:\n",
    "    #                                     output['text'] += '\\n' + text\n",
    "                        \n",
    "    #                     # Update the tool call with output\n",
    "    #                     tool_calls_map[tool_id]['output'] = output\n",
    "    \n",
    "    return function_calls\n",
    "\n",
    "\n",
    "tool_calls_df[\"tool_call\"] = tool_calls_df[\"output_messages\"].apply(get_tool_calls)\n",
    "tool_calls_df.head()"
   ]
  },
  {
   "cell_type": "code",
   "execution_count": 47,
   "metadata": {},
   "outputs": [
    {
     "name": "stderr",
     "output_type": "stream",
     "text": [
      "llm_classify |██████████| 1/1 (100.0%) | ⏳ 00:02<00:00 |  2.01s/it"
     ]
    },
    {
     "data": {
      "text/html": [
       "<div>\n",
       "<style scoped>\n",
       "    .dataframe tbody tr th:only-of-type {\n",
       "        vertical-align: middle;\n",
       "    }\n",
       "\n",
       "    .dataframe tbody tr th {\n",
       "        vertical-align: top;\n",
       "    }\n",
       "\n",
       "    .dataframe thead th {\n",
       "        text-align: right;\n",
       "    }\n",
       "</style>\n",
       "<table border=\"1\" class=\"dataframe\">\n",
       "  <thead>\n",
       "    <tr style=\"text-align: right;\">\n",
       "      <th></th>\n",
       "      <th>label</th>\n",
       "      <th>explanation</th>\n",
       "      <th>exceptions</th>\n",
       "      <th>execution_status</th>\n",
       "      <th>execution_seconds</th>\n",
       "      <th>score</th>\n",
       "    </tr>\n",
       "    <tr>\n",
       "      <th>context.span_id</th>\n",
       "      <th></th>\n",
       "      <th></th>\n",
       "      <th></th>\n",
       "      <th></th>\n",
       "      <th></th>\n",
       "      <th></th>\n",
       "    </tr>\n",
       "  </thead>\n",
       "  <tbody>\n",
       "    <tr>\n",
       "      <th>4f1b0d9e2317dfcc</th>\n",
       "      <td>correct</td>\n",
       "      <td>The tool 'search-actors' is appropriate for th...</td>\n",
       "      <td>[]</td>\n",
       "      <td>COMPLETED</td>\n",
       "      <td>2.006426</td>\n",
       "      <td>1</td>\n",
       "    </tr>\n",
       "  </tbody>\n",
       "</table>\n",
       "</div>"
      ],
      "text/plain": [
       "                    label                                        explanation  \\\n",
       "context.span_id                                                                \n",
       "4f1b0d9e2317dfcc  correct  The tool 'search-actors' is appropriate for th...   \n",
       "\n",
       "                 exceptions execution_status  execution_seconds  score  \n",
       "context.span_id                                                         \n",
       "4f1b0d9e2317dfcc         []        COMPLETED           2.006426      1  "
      ]
     },
     "execution_count": 47,
     "metadata": {},
     "output_type": "execute_result"
    },
    {
     "name": "stderr",
     "output_type": "stream",
     "text": [
      "llm_classify |██████████| 1/1 (100.0%) | ⏳ 00:03<00:00 |  3.03s/it\n"
     ]
    }
   ],
   "source": [
    "TOOL_CALLING_BASE_TEMPLATE = \"\"\"\n",
    "You are an evaluation assistant evaluating questions and tool calls to\n",
    "determine whether the tool called would answer the question. The tool\n",
    "calls have been generated by a separate agent, and chosen from the list of\n",
    "tools provided below. It is your job to decide whether that agent chose\n",
    "the right tool to call.\n",
    "\n",
    "    [BEGIN DATA]\n",
    "    ************\n",
    "    [Question]: {question}\n",
    "    ************\n",
    "    [Tool Called]: {tool_call}\n",
    "    [END DATA]\n",
    "\n",
    "Your response must be single word, either \"correct\" or \"incorrect\",\n",
    "and should not contain any text or characters aside from that word.\n",
    "\"incorrect\" means that the chosen tool would not answer the question,\n",
    "the tool includes information that is not presented in the question,\n",
    "or that the tool signature includes parameter values that don't match\n",
    "the formats specified in the tool signatures below.\n",
    "\n",
    "\"correct\" means the correct tool call was chosen, the correct parameters\n",
    "were extracted from the question, the tool call generated is runnable and correct,\n",
    "and that no outside information not present in the question was used\n",
    "in the generated question.\n",
    "\n",
    "    [Tool Definitions]: {tool_definitions}\n",
    "\"\"\"\n",
    "\n",
    "tool_call_eval = llm_classify(\n",
    "    data=tool_calls_df,\n",
    "    template=TOOL_CALLING_BASE_TEMPLATE,\n",
    "    rails=[\"correct\", \"incorrect\"],\n",
    "    model=eval_model,\n",
    "    provide_explanation=True,\n",
    ")\n",
    "\n",
    "tool_call_eval[\"score\"] = tool_call_eval.apply(\n",
    "    lambda x: 1 if x[\"label\"] == \"correct\" else 0, axis=1\n",
    ")\n",
    "\n",
    "tool_call_eval.head()"
   ]
  },
  {
   "cell_type": "code",
   "execution_count": 49,
   "metadata": {},
   "outputs": [],
   "source": [
    "px_client.log_evaluations(\n",
    "    SpanEvaluations(eval_name=\"Tool Calling Eval\", dataframe=tool_call_eval),\n",
    ")"
   ]
  }
 ],
 "metadata": {
  "kernelspec": {
   "display_name": "3.12.2",
   "language": "python",
   "name": "python3"
  },
  "language_info": {
   "codemirror_mode": {
    "name": "ipython",
    "version": 3
   },
   "file_extension": ".py",
   "mimetype": "text/x-python",
   "name": "python",
   "nbconvert_exporter": "python",
   "pygments_lexer": "ipython3",
   "version": "3.12.2"
  }
 },
 "nbformat": 4,
 "nbformat_minor": 2
}
